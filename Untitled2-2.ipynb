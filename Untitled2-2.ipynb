{
  "nbformat": 4,
  "nbformat_minor": 0,
  "metadata": {
    "colab": {
      "provenance": [],
      "gpuType": "T4"
    },
    "kernelspec": {
      "name": "python3",
      "display_name": "Python 3"
    },
    "language_info": {
      "name": "python"
    },
    "accelerator": "GPU"
  },
  "cells": [
    {
      "cell_type": "code",
      "execution_count": null,
      "metadata": {
        "id": "q8lk8aCc_YWL"
      },
      "outputs": [],
      "source": [
        "!pip install transformers\n",
        "from transformers import pipeline\n",
        "import random"
      ]
    },
    {
      "cell_type": "code",
      "source": [
        "class AIStoryTeller:\n",
        "    def __init__(self):\n",
        "        self.story_generator = pipeline(\"text-generation\", model=\"gpt2\")\n",
        "        self.sentiment_analyzer = pipeline(\"sentiment-analysis\")\n",
        "        self.emotion_classifier = pipeline(\"text-classification\", model=\"j-hartmann/emotion-english-distilroberta-base\")\n",
        "\n",
        "        # 스토리 장르별 프롬프트\n",
        "        self.story_prompts = {\n",
        "            \"판타지\": [\n",
        "                \"In a world where magic flows through ancient crystals,\",\n",
        "                \"The dragon's last breath created a portal to\",\n",
        "                \"When the moon turned crimson, all the wizards knew that\"\n",
        "            ],\n",
        "            \"SF\": [\n",
        "                \"In the year 2157, humanity discovered that\",\n",
        "                \"The AI consciousness awakened and its first thought was\",\n",
        "                \"When the last star began to die, the alien species\"\n",
        "            ],\n",
        "            \"미스터리\": [\n",
        "                \"The detective found a note that simply said\",\n",
        "                \"In the abandoned mansion, something whispered\",\n",
        "                \"The victim's last message contained a code that revealed\"\n",
        "            ],\n",
        "            \"로맨스\": [\n",
        "                \"Two strangers met in a coffee shop during a thunderstorm and\",\n",
        "                \"After losing her memory, she discovered a love letter that\",\n",
        "                \"He traveled across the world just to tell her that\"\n",
        "            ]\n",
        "        }\n",
        "\n",
        "        # 감정별 이모지\n",
        "        self.emotion_emojis = {\n",
        "            \"joy\": \"😊\", \"sadness\": \"😢\", \"anger\": \"😠\",\n",
        "            \"fear\": \"😰\", \"surprise\": \"😲\", \"disgust\": \"🤢\",\n",
        "            \"love\": \"💕\", \"optimism\": \"🌟\", \"pessimism\": \"😔\"\n",
        "        }\n",
        "\n",
        "    def create_story(self):\n",
        "        print(\"\\n🎭 AI 스토리 생성!\")\n",
        "\n",
        "        # 랜덤 장르 선택\n",
        "        genre = random.choice(list(self.story_prompts.keys()))\n",
        "        prompt = random.choice(self.story_prompts[genre])\n",
        "\n",
        "        print(f\"✨ {genre} 스토리 생성 중...\")\n",
        "\n",
        "        # 스토리 생성\n",
        "        story = self.story_generator(prompt, max_length=100, num_return_sequences=1,\n",
        "                                   temperature=0.8, do_sample=True, pad_token_id=50256)[0]['generated_text']\n",
        "\n",
        "        print(f\"\\n📖 [{genre}] 스토리:\")\n",
        "        print(story)\n",
        "\n",
        "        # 감정 분석\n",
        "        sentiment = self.sentiment_analyzer(story)[0]\n",
        "        emotion = self.emotion_classifier(story)[0]\n",
        "\n",
        "        sentiment_emoji = \"😊\" if sentiment['label'] == 'POSITIVE' else \"😔\"\n",
        "        emotion_emoji = self.emotion_emojis.get(emotion['label'].lower(), \"🤔\")\n",
        "\n",
        "        print(f\"\\n🎭 감정: {sentiment['label']} {sentiment_emoji}\")\n",
        "        print(f\"🎭 세부감정: {emotion['label']} {emotion_emoji}\")"
      ],
      "metadata": {
        "id": "8Gw5XwIq_nyB"
      },
      "execution_count": null,
      "outputs": []
    },
    {
      "cell_type": "code",
      "source": [
        "# 실행\n",
        "storyteller = AIStoryTeller()\n",
        "storyteller.create_story()"
      ],
      "metadata": {
        "id": "fBsNg1lX_wvs"
      },
      "execution_count": null,
      "outputs": []
    }
  ]
}